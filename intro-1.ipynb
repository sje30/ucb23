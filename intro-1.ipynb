{
  "cells": [
    {
      "cell_type": "markdown",
      "metadata": {},
      "source": [
        "# Julia Introduction\n",
        "\n",
        "## 1 - Calculating the sum of integers\n",
        "\n",
        "Concepts introduced:\n",
        "\n",
        "-   ***Variables*** and the ***types*** of values that they can take\n",
        "\n",
        "-   **`for`**, **`begin`**, and **`if`** blocks\n",
        "\n",
        "-   ***Functions*** and ***macros***\n",
        "\n",
        "-   ***Recursion***\n",
        "\n",
        "-   Using ***documentation***\n",
        "\n",
        "This guide is written for use in the Julia REPL, although saving code\n",
        "into a file will also work if you prefer. It also functions as a Pluto\n",
        "notebook, to be used interactively.\n",
        "\n",
        "### Setup\n",
        "\n",
        "Suppose we want to calculate the sum of the integers $1$ to $100$. We\n",
        "can start off by typing simple sums, pressing enter, and Julia will be\n",
        "able to tell us the answer."
      ],
      "id": "e4b3a632-6945-4a95-b6c1-c286cb1ab1f2"
    },
    {
      "cell_type": "code",
      "execution_count": 1,
      "metadata": {},
      "outputs": [
        {
          "output_type": "display_data",
          "metadata": {},
          "data": {
            "text/plain": [
              "3"
            ]
          }
        }
      ],
      "source": [
        "1 + 2"
      ],
      "id": "da833966"
    },
    {
      "cell_type": "code",
      "execution_count": 2,
      "metadata": {},
      "outputs": [
        {
          "output_type": "display_data",
          "metadata": {},
          "data": {
            "text/plain": [
              "6"
            ]
          }
        }
      ],
      "source": [
        "1 + 2 + 3"
      ],
      "id": "c97b2c60"
    },
    {
      "cell_type": "code",
      "execution_count": 3,
      "metadata": {},
      "outputs": [
        {
          "output_type": "display_data",
          "metadata": {},
          "data": {
            "text/plain": [
              "10"
            ]
          }
        }
      ],
      "source": [
        "1 + 2 + 3 + 4"
      ],
      "id": "d809dd5c"
    },
    {
      "cell_type": "markdown",
      "metadata": {},
      "source": [
        "However, this is would be quite annoying to have to type out all the way\n",
        "up to $100$. And what if we then decided we wanted to go to $1000$? Or\n",
        "$1$ million?\n",
        "\n",
        "Instead, we want to be able to ask Julia to add up without us\n",
        "laboriously writing out every term of the sum. Luckily, we have plenty\n",
        "of choice of ways to do this.\n",
        "\n",
        "### Variables and the `for` loop\n",
        "\n",
        "Our first tool to introduce will be *variables*, which are names that we\n",
        "assign a value to, and then can use that name in place of the value.\n",
        "This allows us to write code that performs calculations where we don’t\n",
        "explicitly tell Julia which numbers to use. A value is assigned to a\n",
        "variable using `=` as follows:"
      ],
      "id": "ab045f7c-9381-4db2-8459-5ac4640b6fed"
    },
    {
      "cell_type": "code",
      "execution_count": 4,
      "metadata": {},
      "outputs": [
        {
          "output_type": "display_data",
          "metadata": {},
          "data": {
            "text/plain": [
              "1"
            ]
          }
        }
      ],
      "source": [
        "number1 = 1"
      ],
      "id": "8a84a080"
    },
    {
      "cell_type": "markdown",
      "metadata": {},
      "source": [
        "Names of variables are important to choose carefully, as we don’t want\n",
        "them to be misinterpreted by Julia, particularly if the name is already\n",
        "in use as a keyword. For readability of code, it should be named to make\n",
        "clear its purpose or value. We are also limited by Julia, which forces\n",
        "us to start the variable name with a letter, or letter-like symbol.\n",
        "Despite this, and unlike in many other languages, we can use a wide\n",
        "range of characters for variable names, including non-Latin scripts and\n",
        "some emoji."
      ],
      "id": "3ae75f12-7be3-4226-9302-d94923e9bea8"
    },
    {
      "cell_type": "code",
      "execution_count": 5,
      "metadata": {},
      "outputs": [
        {
          "output_type": "display_data",
          "metadata": {},
          "data": {
            "text/plain": [
              "2"
            ]
          }
        }
      ],
      "source": [
        "αριθμός2️⃣ = 2"
      ],
      "id": "68ac7a17"
    },
    {
      "cell_type": "markdown",
      "metadata": {},
      "source": [
        "Variables can be numerical, but they can also take many other different\n",
        "values depending on what we might use them for, e.g. some text, which we\n",
        "need surround with quotation marks to tell Julia to expect text and not\n",
        "try to run it as code."
      ],
      "id": "a809da7f-bae5-4c5f-98e0-9c4c2fe2a5d3"
    },
    {
      "cell_type": "code",
      "execution_count": 6,
      "metadata": {},
      "outputs": [
        {
          "output_type": "display_data",
          "metadata": {},
          "data": {
            "text/plain": [
              "\"https://julialang.org/\""
            ]
          }
        }
      ],
      "source": [
        "juliaURL = \"https://julialang.org/\""
      ],
      "id": "b39a8177"
    },
    {
      "cell_type": "markdown",
      "metadata": {},
      "source": [
        "Another common variable we might want to define is a list of values,\n",
        "which we can do by enclosing them in square brackets `[` and `]`, and\n",
        "seperating each by a comma:"
      ],
      "id": "95ff7b41-af5c-4843-ac41-a4e647915325"
    },
    {
      "cell_type": "code",
      "execution_count": 7,
      "metadata": {},
      "outputs": [
        {
          "output_type": "display_data",
          "metadata": {},
          "data": {
            "text/plain": [
              "4-element Vector{Int64}:\n",
              "    7\n",
              "   37\n",
              "  137\n",
              " 1089"
            ]
          }
        }
      ],
      "source": [
        "favouritenumbers = [7, 37, 137, 1089]"
      ],
      "id": "e491fecf"
    },
    {
      "cell_type": "markdown",
      "metadata": {},
      "source": [
        "For better readability, it can sometimes be better to space out the list\n",
        "as follows, with one element on each line. It’s usually preferable to\n",
        "have many short lines rather than one long one."
      ],
      "id": "c3addda5-ccb3-4628-884d-4af965db221d"
    },
    {
      "cell_type": "code",
      "execution_count": 8,
      "metadata": {},
      "outputs": [
        {
          "output_type": "display_data",
          "metadata": {},
          "data": {
            "text/plain": [
              "12-element Vector{String}:\n",
              " \"Neil Armstrong\"\n",
              " \"Buzz Aldrin\"\n",
              " \"Pete Conrad\"\n",
              " \"Alan Bean\"\n",
              " \"Alan Shepard\"\n",
              " \"Edgar Mitchell\"\n",
              " \"David Scott\"\n",
              " \"James Irwin\"\n",
              " \"John Young\"\n",
              " \"Charles Duke\"\n",
              " \"Gene Cernan\"\n",
              " \"Harrison Schmitt\""
            ]
          }
        }
      ],
      "source": [
        "menonthemoon = [\n",
        "    \"Neil Armstrong\",\n",
        "    \"Buzz Aldrin\",\n",
        "    \"Pete Conrad\",\n",
        "    \"Alan Bean\",\n",
        "    \"Alan Shepard\",\n",
        "    \"Edgar Mitchell\",\n",
        "    \"David Scott\",\n",
        "    \"James Irwin\",\n",
        "    \"John Young\",\n",
        "    \"Charles Duke\",\n",
        "    \"Gene Cernan\",\n",
        "    \"Harrison Schmitt\"\n",
        "]"
      ],
      "id": "de354996"
    },
    {
      "cell_type": "markdown",
      "metadata": {},
      "source": [
        "We can ask Julia to tell us the value of the variable simply by typing\n",
        "the name of that variable."
      ],
      "id": "97da6bdc-15cd-4abe-95c3-33b02665230a"
    },
    {
      "cell_type": "code",
      "execution_count": 9,
      "metadata": {},
      "outputs": [
        {
          "output_type": "display_data",
          "metadata": {},
          "data": {
            "text/plain": [
              "1"
            ]
          }
        }
      ],
      "source": [
        "number1"
      ],
      "id": "9150aa20"
    },
    {
      "cell_type": "markdown",
      "metadata": {},
      "source": [
        "We can then use the names in place of the values they represent in sums."
      ],
      "id": "43a612eb-3ae2-4610-b63f-d1da4cd6d86f"
    },
    {
      "cell_type": "code",
      "execution_count": 10,
      "metadata": {},
      "outputs": [
        {
          "output_type": "display_data",
          "metadata": {},
          "data": {
            "text/plain": [
              "3"
            ]
          }
        }
      ],
      "source": [
        "number1 + αριθμός2️⃣"
      ],
      "id": "36968267"
    },
    {
      "cell_type": "markdown",
      "metadata": {},
      "source": [
        "So what? We’ve managed to write several lines of code that did exactly\n",
        "what we managed before in one. This looks more like a step backwards\n",
        "than a step forwards at the moment.\n",
        "\n",
        "The crucial aspect of the variable is that we can change its value\n",
        "without changing its name. This means we can ask Julia to repeat the\n",
        "same operations again and again (that is, adding the next number to a\n",
        "running total) by only writing it once.\n",
        "\n",
        "We’ll start by giving a variable the name `runningtotal`, with starting\n",
        "value `0`.\n",
        "\n",
        "``` julia\n",
        "runningtotal = 0\n",
        "```\n",
        "\n",
        "Then, we’ll use a `for` loop. A `for` loop takes the form:\n",
        "\n",
        "``` julia\n",
        "for <variable-name> in <list-of-things>\n",
        "    <code-to-loop>\n",
        "end\n",
        "```\n",
        "\n",
        "The names in angle brackets are not correct Julia syntax (if you tried\n",
        "to run this as is, Julia would get very confused!), but are meant as\n",
        "placeholders to describe what code should be put in that place. We’ve\n",
        "seen some examples of lists of things before, but many other types of\n",
        "data can perform the same function. The `for` loop goes through the\n",
        "list, taking each item one at a time, giving it the ascribed name, and\n",
        "then running the following section of code on that item. The keyword\n",
        "`end` is necessary to tell Julia when we want it to go back to the start\n",
        "of the loop with the next item from the list.\n",
        "\n",
        "For our purposes, we’ll take the list to be `1:1000`, which denotes the\n",
        "integers between $1$ and $1000$, including both ends. The variable will\n",
        "be called `n`, and within the loop, we’ll add `n` to the running total.\n",
        "\n",
        "``` julia\n",
        "for n in 1:1000\n",
        "    runningtotal = runningtotal + n\n",
        "end\n",
        "```\n",
        "\n",
        "Notice that the `=` sign does not mean the same as it would\n",
        "mathematically, as clearly this would be a false equation. Instead,\n",
        "Julia calculates the right hand side, and then sets the variable on the\n",
        "left hand side to take that value, which in this case overwrites the\n",
        "original value of `runningtotal` to be the new sum.\n",
        "\n",
        "Putting this together, we can run the loop:"
      ],
      "id": "f1b08b35-6de3-4720-a4c1-df4f400b83f4"
    },
    {
      "cell_type": "code",
      "execution_count": 11,
      "metadata": {},
      "outputs": [],
      "source": [
        "begin\n",
        "    \n",
        "    # Set the initial value to 0\n",
        "    runningtotal = 0\n",
        "\n",
        "    # Add each number from 1 to 1000 in turn\n",
        "    for n in 1:1000\n",
        "        runningtotal = runningtotal + n\n",
        "    end\n",
        "\n",
        "end"
      ],
      "id": "63057edb"
    },
    {
      "cell_type": "markdown",
      "metadata": {},
      "source": [
        "There’s a couple of things to say here. The `begin`-`end` block here is\n",
        "useful for typing out multiple statements at a time without Julia\n",
        "running them one by one automatically. It function almost like a set of\n",
        "parentheses would in algebra, opening with a `begin`, and Julia will\n",
        "evaluate the contents in side all at once when you’ve closed with an\n",
        "`end`. In this instance, it’s useful to set the initial value of `0` and\n",
        "then run the loop all in one go, so if we want to try it again, we don’t\n",
        "need to remember to reset the value of `runningtotal` again.\n",
        "\n",
        "Also, we see the text after the hash symbol `#` is pink, italicised, and\n",
        "also isn’t code. This is because it is a *comment*, as marked by the\n",
        "`#`, and is ignored by Julia, while allowing us to read it so that we\n",
        "can more easily understand what is happening. Comments are very useful,\n",
        "particularly if you come back to code you’ve written some time ago, and\n",
        "you’ve forgotten what you were trying to do. They are also very useful\n",
        "if someone else wants to see what you’ve done, and you aren’t there to\n",
        "explain it.\n",
        "\n",
        "Now, to find the final value of the `runningtotal`, we simply type its\n",
        "name to ask Julia what it’s value now is."
      ],
      "id": "169a4b8c-14b9-4d1d-ae33-ad74502eb7ce"
    },
    {
      "cell_type": "code",
      "execution_count": 12,
      "metadata": {},
      "outputs": [
        {
          "output_type": "display_data",
          "metadata": {},
          "data": {
            "text/plain": [
              "500500"
            ]
          }
        }
      ],
      "source": [
        "runningtotal"
      ],
      "id": "e4eee8dd"
    },
    {
      "cell_type": "markdown",
      "metadata": {},
      "source": [
        "### Functions and types\n",
        "\n",
        "Just because we’ve solved the problem, that doesn’t mean it’s not worth\n",
        "looking for more solutions, especially if we can improve on our original\n",
        "method in some way. As we’ll see, there are several other ways of\n",
        "summing the integers $1$ to $1000$ that can teach different ideas.\n",
        "\n",
        "There’s an often recounted story about the 19th century German (as much\n",
        "as German meant anything back then) mathematician Carl Friedrich Gauss\n",
        "being asked to sum the numbers $1$ to $100$ by a teacher who presumably\n",
        "wanted a quiet half hour to themselves, and coming up with the right\n",
        "answer $5050$ almost immediately. Given the countless retellings over\n",
        "the last 200 years, it’s difficult to say how much truth there is to it,\n",
        "but nonetheless it does demonstrate that there is a shortcut specific to\n",
        "this problem.\n",
        "\n",
        "First, we write down the numbers from $1$ to $100$ in a row. Below them,\n",
        "we write down the same sequence, but backwards. We then sum each column\n",
        "of two numbers:\n",
        "\n",
        "$$\n",
        "+\\quad \\begin{matrix}\n",
        "1 & 2 & 3 & \\cdots & 98 & 99 & 100 \\\\\n",
        "100 & 99 & 98 & \\cdots & 3 & 2 & 1 \\\\\\hline\n",
        "101 & 101 & 101 & \\cdots & 101 & 101 & 101 \\\\\n",
        "\\end{matrix}\n",
        "$$\n",
        "\n",
        "All of the answers are $101$! We can add up all of the numbers on both\n",
        "rows by adding up the column sums, i.e $101 \\times 100 = 10100$. Then,\n",
        "since we wrote down every number between $1$ and $100$ twice, we want to\n",
        "halve this to get the sum we’re looking for:\n",
        "\n",
        "$$\n",
        "1 + 2 + 3 + \\dots + 99 + 100 = \\frac{10100}{2} = 5050\n",
        "$$\n",
        "\n",
        "In fact, we can do the same thing for the sum from $1$ to $N$, and get a\n",
        "general formula:\n",
        "\n",
        "$$\n",
        "+\\quad \\begin{matrix}\n",
        "1 & 2 & 3 & \\cdots & N-2 & N-1 & N \\\\\n",
        "N & N-1 & N-2 & \\cdots & 3 & 2 & 1 \\\\\\hline\n",
        "N+1 & N+1 & N+1 & \\cdots & N+1 & N+1 & N+1 \\\\\n",
        "\\end{matrix}\n",
        "$$\n",
        "\n",
        "$$\n",
        "1 + 2 + 3 + \\dots + (N-1) + N = \\frac{1}{2} ((N + 1) \\times N) = \\frac{N(N+1)}{2}\n",
        "$$\n",
        "\n",
        "Well this is much easier, in fact we don’t even need Julia any more to\n",
        "calculate the sum of integers from $1$ to $1000$, as it will be:\n",
        "\n",
        "$$\n",
        "1 + 2 + 3 + \\dots + 999 + 1000 = \\frac{1000 \\times 1001}{2} = \\frac{1001000}{2} = 500500\n",
        "$$\n",
        "\n",
        "Instead, lets suppose we want a way to sum the integers from $1$ to $N$,\n",
        "for any value of $N$ we might choose, without having to write out the\n",
        "formula every time. For this, we’ll need a `function`, which allows a\n",
        "predetermined set of calculations to be done for any given input. We can\n",
        "evaluate a function by:\n",
        "\n",
        "``` julia\n",
        "<function-name>(<input-1>, <input-2>, etc.)\n",
        "```\n",
        "\n",
        "The number of inputs we need to provide, and what values they might\n",
        "take, will depend on what the function is. Julia has many inbuilt\n",
        "functions for various tasks, such as the following:"
      ],
      "id": "400a86df-c66d-4aaf-b7dd-57b60dc636b0"
    },
    {
      "cell_type": "code",
      "execution_count": 13,
      "metadata": {},
      "outputs": [
        {
          "output_type": "display_data",
          "metadata": {},
          "data": {
            "text/plain": [
              "45"
            ]
          }
        }
      ],
      "source": [
        "min(45, 54) # Finds the minimum of its inputs"
      ],
      "id": "41e9f282"
    },
    {
      "cell_type": "code",
      "execution_count": 14,
      "metadata": {},
      "outputs": [
        {
          "output_type": "display_data",
          "metadata": {},
          "data": {
            "text/plain": [
              "\"stressed\""
            ]
          }
        }
      ],
      "source": [
        "reverse(\"desserts\") # Reverses the text input"
      ],
      "id": "2f56f6dd"
    },
    {
      "cell_type": "code",
      "execution_count": 15,
      "metadata": {},
      "outputs": [
        {
          "output_type": "display_data",
          "metadata": {},
          "data": {
            "text/plain": [
              "4"
            ]
          }
        }
      ],
      "source": [
        "length([12, 34, 56, 78]) # Counts the number of items in the list"
      ],
      "id": "9485557a"
    },
    {
      "cell_type": "markdown",
      "metadata": {},
      "source": [
        "In several of these cases, we could guess that the function will fail if\n",
        "we provide nonsensical inputs, such as trying to find the `min` of\n",
        "`\"beetroot\"` and `\"cucumber\"`, or the `length` of `12`. However:"
      ],
      "id": "fb473c48-be0b-41c0-8000-e1d4fbbc7fdb"
    },
    {
      "cell_type": "code",
      "execution_count": 16,
      "metadata": {},
      "outputs": [
        {
          "output_type": "display_data",
          "metadata": {},
          "data": {
            "text/plain": [
              "\"beetroot\""
            ]
          }
        }
      ],
      "source": [
        "min(\"beetroot\", \"cucumber\")"
      ],
      "id": "e781cbef"
    },
    {
      "cell_type": "code",
      "execution_count": 17,
      "metadata": {},
      "outputs": [
        {
          "output_type": "display_data",
          "metadata": {},
          "data": {
            "text/plain": [
              "1"
            ]
          }
        }
      ],
      "source": [
        "length(12)"
      ],
      "id": "db019746"
    },
    {
      "cell_type": "markdown",
      "metadata": {},
      "source": [
        "This is because functions can change their behaviour depending on what\n",
        "is input. Usually, `min` finds the smallest of two numbers, but if it\n",
        "receives text instead, it finds the first alphabetically. Meanwhile, if\n",
        "`length` gets a single item instead of a list, it considers it a list\n",
        "with only one item in it, and so tells us we have a list of length 1.\n",
        "This isn’t universally true however, as putting the wrong data into a\n",
        "function can simple cause an error:"
      ],
      "id": "15c92437-d00a-4408-a832-ab8a095cd527"
    },
    {
      "cell_type": "code",
      "execution_count": 18,
      "metadata": {},
      "outputs": [],
      "source": [
        "reverse(34)"
      ],
      "id": "0d3e4bd5"
    },
    {
      "cell_type": "markdown",
      "metadata": {},
      "source": [
        "We can also write our own functions, if no inbuilt function does what we\n",
        "want. The syntax for this will look like:\n",
        "\n",
        "``` julia\n",
        "<function-name>(<input-1>, <input-2>, etc.)\n",
        "    <code-to-run>\n",
        "    return <output-value>\n",
        "end\n",
        "```\n",
        "\n",
        "The function name is much like a variable name, and we should choose it\n",
        "to represent what we want it to do. We specify the number of inputs, and\n",
        "give them variable names in the function definition so we can use them\n",
        "in calculations, but we don’t have to give them values yet. We then\n",
        "write the code that performs our desired computations, and follow the\n",
        "keyword `return` with the value we want the function to output.\n",
        "\n",
        "It’s important to note that any variable names you refer to inside the\n",
        "function definition (including in the inputs) will only exist within the\n",
        "function, and you won’t be able to refer to them outside. This is\n",
        "because they are simply placeholder names, and don’t even have a value\n",
        "except while the function is evaluating.\n",
        "\n",
        "We’ll now write a function of our own to calculate the sum from $1$ to\n",
        "$1000$, using the formula we found earlier. Muliplication is written\n",
        "with an asterisk `*`, and division with a forward slash `/`, so our\n",
        "desired function is:"
      ],
      "id": "74ec6f45-60ad-4ff1-a581-f05164106e1c"
    },
    {
      "cell_type": "code",
      "execution_count": 19,
      "metadata": {},
      "outputs": [
        {
          "output_type": "display_data",
          "metadata": {},
          "data": {
            "text/plain": [
              "sum1toNv1 (generic function with 1 method)"
            ]
          }
        }
      ],
      "source": [
        "#v1 for version 1, we'll be seeing many more versions!\n",
        "function sum1toNv1(N)\n",
        "    # Formula for summing integers from 1 to N\n",
        "    return (N * (N+1)) / 2\n",
        "end"
      ],
      "id": "ea1518f9"
    },
    {
      "cell_type": "markdown",
      "metadata": {},
      "source": [
        "We’ve used `N` here as our variable name, which isn’t very descriptive,\n",
        "but the comment makes it clear what it represents, so it’s an acceptable\n",
        "choice of variable name. As mentioned before, it doesn’t exist outside\n",
        "of the function, so we can’t ask Julia its value:"
      ],
      "id": "fa2de37a-dc7b-45d6-8ab2-eed2739026d3"
    },
    {
      "cell_type": "code",
      "execution_count": 20,
      "metadata": {},
      "outputs": [],
      "source": [
        "N"
      ],
      "id": "8a457e3c"
    },
    {
      "cell_type": "markdown",
      "metadata": {},
      "source": [
        "Let’s try this out with $N = 1000$, and see if we get $500500$ as\n",
        "expected:"
      ],
      "id": "8942cf96-31d6-4cd2-94d0-5fde164d55aa"
    },
    {
      "cell_type": "code",
      "execution_count": 21,
      "metadata": {},
      "outputs": [
        {
          "output_type": "display_data",
          "metadata": {},
          "data": {
            "text/plain": [
              "500500.0"
            ]
          }
        }
      ],
      "source": [
        "sum1toNv1(1000)"
      ],
      "id": "a799743a"
    },
    {
      "cell_type": "markdown",
      "metadata": {},
      "source": [
        "It’s not wrong, but it’s not what we were expecting either. Why does\n",
        "Julia bother to write a `.0` after the number? This is because every\n",
        "value in our code, every variable, even every word of code we write, has\n",
        "a hidden property called its *type*. We’ve already seen how the value\n",
        "that a variable takes can be one of many different forms, and these are\n",
        "examples of types:\n",
        "\n",
        "-   `Int64` is the type corresponding to integers\n",
        "\n",
        "-   `Float64` is the type corresponding to decimals\n",
        "\n",
        "-   `String` is the type corresponding to text\n",
        "\n",
        "-   `Vector` is the type corresponding to lists contained in square\n",
        "    brackets\n",
        "\n",
        "-   `UnitRange` is the type corresponding to lists of numbers such as\n",
        "    `1:1000`\n",
        "\n",
        "-   `Function` is the type corresponding to functions, whether custom or\n",
        "    inbuilt into Julia\n",
        "\n",
        "We can use the inbuilt function `typeof` to ask Julia what the type of a\n",
        "given variable or data input is:"
      ],
      "id": "97564def-dbe9-47ea-bc99-a95e37aabe3d"
    },
    {
      "cell_type": "code",
      "execution_count": 22,
      "metadata": {},
      "outputs": [
        {
          "output_type": "display_data",
          "metadata": {},
          "data": {
            "text/plain": [
              "Float64"
            ]
          }
        }
      ],
      "source": [
        "typeof(sum1toNv1(1000))"
      ],
      "id": "1ce1d760"
    },
    {
      "cell_type": "markdown",
      "metadata": {},
      "source": [
        "Shouldn’t it be an integer, i.e. `Int64`? No, as there are good reasons\n",
        "you might want to use this number as if it were a decimal, just with\n",
        "zero decimal part. `Float64` accommodates integers as well, but to\n",
        "distinguish the two types when displaying their values, Julia adds `.0`\n",
        "to the end of the `Float64` to signify the zero decimal part.\n",
        "\n",
        "But why do we get a `Float64` out in the first place? Types are what\n",
        "Julia uses to work out how to treat data, such as when it is input into\n",
        "a function, as we saw before. Indeed, the error message we saw when we\n",
        "tried `reverse(34)` said\n",
        "\n",
        "``` julia\n",
        "MethodError: no method matching reverse(::Int64)\n",
        "```\n",
        "\n",
        "by which it means there is no definition for the function `reverse` that\n",
        "allows a single input of type `Int64`, which is what we gave it in the\n",
        "form of `34`.\n",
        "\n",
        "The method by which Julia evaluates how a function will run depending on\n",
        "the types of its inputs is called *multiple dispatch*. It is a very\n",
        "useful tool to have in the toolbox, one of Julia’s most powerful, but\n",
        "for now we’ll just be aware of its existence and its consequences for\n",
        "the functions that we may use.\n",
        "\n",
        "Why is this relevant to the unexpected `.0`? Well, the division `/` is a\n",
        "function, just with special syntax as it is so commonly used, and\n",
        "dividing an `Int64` by an `Int64` cannot return an `Int64`, as you don’t\n",
        "always get an integer when dividing two integers. Instead, it always\n",
        "returns a `Float64`, even if the answer we get doesn’t end up having\n",
        "decimal places.\n",
        "\n",
        "To get from our `Float64` `500500.0` to our expected integer output\n",
        "`500500`, we can use the inbuilt `convert` function, which will try to\n",
        "convert our `Float64` into `Int64`, giving an error if this isn’t\n",
        "possible."
      ],
      "id": "34f0b40b-62ca-4b6e-8bbf-dc85552f41ed"
    },
    {
      "cell_type": "code",
      "execution_count": 23,
      "metadata": {},
      "outputs": [
        {
          "output_type": "display_data",
          "metadata": {},
          "data": {
            "text/plain": [
              "sum1toNv2 (generic function with 1 method)"
            ]
          }
        }
      ],
      "source": [
        "function sum1toNv2(N)\n",
        "    # Formula for summing integers from 1 to N\n",
        "    sumFloat64 = (N * (N+1)) / 2\n",
        "    # Corrected by converting the answer back into an Int64\n",
        "    return convert(Int64, sumFloat64)\n",
        "end"
      ],
      "id": "a9fb217d"
    },
    {
      "cell_type": "code",
      "execution_count": 24,
      "metadata": {},
      "outputs": [
        {
          "output_type": "display_data",
          "metadata": {},
          "data": {
            "text/plain": [
              "500500"
            ]
          }
        }
      ],
      "source": [
        "sum1toNv2(1000)"
      ],
      "id": "c67ee6cb"
    },
    {
      "cell_type": "markdown",
      "metadata": {},
      "source": [
        "### `if` statements and recursion\n",
        "\n",
        "We’ve seen two ways of solving our summing problem, but there’s still\n",
        "more! Our next method will introduce *control flow*, in particular the\n",
        "`if` statement, which allows you to change what instructions your\n",
        "program runs depending on whether or not a condition is met. This will\n",
        "improve on our previous approach by allowing us to test if the input is\n",
        "sensible, since currently:"
      ],
      "id": "94ecefa7-0771-4773-b282-027a036a0dfc"
    },
    {
      "cell_type": "code",
      "execution_count": 25,
      "metadata": {},
      "outputs": [
        {
          "output_type": "display_data",
          "metadata": {},
          "data": {
            "text/plain": [
              "1378"
            ]
          }
        }
      ],
      "source": [
        "sum1toNv2(-53)"
      ],
      "id": "862644b4"
    },
    {
      "cell_type": "markdown",
      "metadata": {},
      "source": [
        "The `if` statement takes the following generic form:\n",
        "\n",
        "``` julia\n",
        "if <condition>\n",
        "    <code-if-true>\n",
        "else\n",
        "    <code-if-false>\n",
        "end\n",
        "```\n",
        "\n",
        "The condition can be written in many ways, but some of the most common\n",
        "are:\n",
        "\n",
        "-   `<value-1> == <value-2>` checks if the two values are equal.\n",
        "    Conversely `<value-1> != <value-2>` checks if they are not equal.\n",
        "\n",
        "-   `<value-1> < <value-2>` checks if the first value is less than the\n",
        "    second. The same works with `>` for greater than, `<=` for less than\n",
        "    or equal to, and `>=` for greater than or equal to.\n",
        "\n",
        "-   `!<condition>` reverses the condition (so is true if the condition\n",
        "    is false, and vice versa)\n",
        "\n",
        "-   `<condition-1> && <condition-2>` is called `AND`, which is true only\n",
        "    when both conditions are met. Similarly,\n",
        "    `<condition-1> || <condition-2>` is called `OR`, true when either\n",
        "    (or both) of the conditions are met.\n",
        "\n",
        "-   Many functions can give conditions, usually ones with names\n",
        "    beginning with `is`. For example, `iseven(N)` is true when the input\n",
        "    `N` is an even number, and `issorted(v)` is true when the input `v`\n",
        "    is a `Vector` type with all elements in order, such as `[1, 2, 3]`\n",
        "    or `[\"a\", \"b\", \"c\"]`\n",
        "\n",
        "We can try some of these conditions just by themselves, without the `if`\n",
        "statement, and Julia will tell us if they are true or false."
      ],
      "id": "d2837e03-be46-449c-8642-70946551d0f9"
    },
    {
      "cell_type": "code",
      "execution_count": 26,
      "metadata": {},
      "outputs": [
        {
          "output_type": "display_data",
          "metadata": {},
          "data": {
            "text/plain": [
              "false"
            ]
          }
        }
      ],
      "source": [
        "6 < 2"
      ],
      "id": "bfe0705f"
    },
    {
      "cell_type": "code",
      "execution_count": 27,
      "metadata": {},
      "outputs": [
        {
          "output_type": "display_data",
          "metadata": {},
          "data": {
            "text/plain": [
              "true"
            ]
          }
        }
      ],
      "source": [
        "\"giraffe\" < \"hippopotamus\" # Here, < means alphabetically before"
      ],
      "id": "81bfb27f"
    },
    {
      "cell_type": "code",
      "execution_count": 28,
      "metadata": {},
      "outputs": [
        {
          "output_type": "display_data",
          "metadata": {},
          "data": {
            "text/plain": [
              "true"
            ]
          }
        }
      ],
      "source": [
        "(iseven(12) && (3 == 2 + 1) && (5 + 3 == 2 * 4)) || iseven(3)"
      ],
      "id": "dfda6639"
    },
    {
      "cell_type": "markdown",
      "metadata": {},
      "source": [
        "But if these values can be displayed by Julia, couldn’t we make them\n",
        "into a variable? Indeed, we can (which is how the functions like\n",
        "`iseven` do it!), using the special type `Bool`, which can only be one\n",
        "of two values, `true` and `false`."
      ],
      "id": "78f4a023-fb6a-48fc-bdb9-8c1875b01f69"
    },
    {
      "cell_type": "code",
      "execution_count": 29,
      "metadata": {},
      "outputs": [
        {
          "output_type": "display_data",
          "metadata": {},
          "data": {
            "text/plain": [
              "false"
            ]
          }
        }
      ],
      "source": [
        "biggestnumber = (5 == max(1, 2, 5, 7))"
      ],
      "id": "7f9a50fc"
    },
    {
      "cell_type": "code",
      "execution_count": 30,
      "metadata": {},
      "outputs": [
        {
          "output_type": "display_data",
          "metadata": {},
          "data": {
            "text/plain": [
              "Bool"
            ]
          }
        }
      ],
      "source": [
        "typeof(biggestnumber)"
      ],
      "id": "b8362477"
    },
    {
      "cell_type": "markdown",
      "metadata": {},
      "source": [
        "Any `Bool` variable can then be used in place of a condition.\n",
        "\n",
        "For our purposes, we want to check if the input to our function to sum\n",
        "from $1$ to $N$ is sensible, so we need it to be an integer which is at\n",
        "least $1$. We can write our own function for this, which returns a\n",
        "`Bool` to be used later as a condition:"
      ],
      "id": "12276a57-ccf8-4fba-ba05-b6158533a734"
    },
    {
      "cell_type": "code",
      "execution_count": 31,
      "metadata": {},
      "outputs": [
        {
          "output_type": "display_data",
          "metadata": {},
          "data": {
            "text/plain": [
              "isvalidN (generic function with 1 method)"
            ]
          }
        }
      ],
      "source": [
        "function isvalidN(N)\n",
        "    # True if N is both an integer and greater than or equal to 1, false otherwise\n",
        "    return isinteger(N) && (N >= 1)\n",
        "end"
      ],
      "id": "7f614dee"
    },
    {
      "cell_type": "code",
      "execution_count": 32,
      "metadata": {},
      "outputs": [
        {
          "output_type": "display_data",
          "metadata": {},
          "data": {
            "text/plain": [
              "true"
            ]
          }
        }
      ],
      "source": [
        "isvalidN(1000)"
      ],
      "id": "aed35e89"
    },
    {
      "cell_type": "code",
      "execution_count": 33,
      "metadata": {},
      "outputs": [
        {
          "output_type": "display_data",
          "metadata": {},
          "data": {
            "text/plain": [
              "false"
            ]
          }
        }
      ],
      "source": [
        "isvalidN(-53)"
      ],
      "id": "1cb83105"
    },
    {
      "cell_type": "markdown",
      "metadata": {},
      "source": [
        "We can now put that check before running our `sum1toNv2` function, using\n",
        "the `error` function to give our own error message."
      ],
      "id": "dba6b286-989b-4eef-ab52-6c5b7300a15c"
    },
    {
      "cell_type": "code",
      "execution_count": 34,
      "metadata": {},
      "outputs": [
        {
          "output_type": "display_data",
          "metadata": {},
          "data": {
            "text/plain": [
              "sum1toNv3 (generic function with 1 method)"
            ]
          }
        }
      ],
      "source": [
        "function sum1toNv3(N)\n",
        "    # Checks if N is valid, if so, we can calculate as before\n",
        "    if isvalidN(N)\n",
        "        return sum1toNv2(N)\n",
        "    else\n",
        "        # If N is invalid, an error message is displayed\n",
        "        error(\"must be an integer and at least 1\")\n",
        "    end\n",
        "end"
      ],
      "id": "cccf8d5a"
    },
    {
      "cell_type": "code",
      "execution_count": 35,
      "metadata": {},
      "outputs": [
        {
          "output_type": "display_data",
          "metadata": {},
          "data": {
            "text/plain": [
              "500500"
            ]
          }
        }
      ],
      "source": [
        "sum1toNv3(1000)"
      ],
      "id": "08db227b"
    },
    {
      "cell_type": "code",
      "execution_count": 36,
      "metadata": {},
      "outputs": [],
      "source": [
        "sum1toNv3(-53)"
      ],
      "id": "c5ce01ec"
    },
    {
      "cell_type": "markdown",
      "metadata": {},
      "source": [
        "We’re not done with `if` statements quite yet though, as we can use them\n",
        "in introducing another programming technique, *recursion*. A function\n",
        "written with recursion has its output depend on evaluating the function\n",
        "on another input, usually a number one less than you began with, or\n",
        "perhaps a list with one less item. For recursion to work, it is crucial\n",
        "to implement some sort of stopping point, which doesn’t rely on a\n",
        "further value of the function, otherwise it would keep going on forever,\n",
        "and this is often easiest to do with an `if` statement. As an example,\n",
        "here’s an implementation of our usual summing from $1$ to $N$ function\n",
        "using recursion:"
      ],
      "id": "e7c548e9-91ec-4e1d-9393-0b4355d237d1"
    },
    {
      "cell_type": "code",
      "execution_count": 37,
      "metadata": {},
      "outputs": [
        {
          "output_type": "display_data",
          "metadata": {},
          "data": {
            "text/plain": [
              "sum1toNv4 (generic function with 1 method)"
            ]
          }
        }
      ],
      "source": [
        "function sum1toNv4(N)\n",
        "    # Stopping point for recursion, when N is 1, the sum from 1 to N is just 1\n",
        "    if N == 1\n",
        "        return 1\n",
        "    else # Recursively calculates the sum from 1 to N-1, then adds N\n",
        "        return (sum1toNv4(N - 1) + N)\n",
        "    end\n",
        "end"
      ],
      "id": "17c01628"
    },
    {
      "cell_type": "markdown",
      "metadata": {},
      "source": [
        "Let’s try this out on some inputs:"
      ],
      "id": "df0e7859-2414-41fb-9c58-411233c78fc3"
    },
    {
      "cell_type": "code",
      "execution_count": 38,
      "metadata": {},
      "outputs": [
        {
          "output_type": "display_data",
          "metadata": {},
          "data": {
            "text/plain": [
              "500500"
            ]
          }
        }
      ],
      "source": [
        "sum1toNv3(1000)"
      ],
      "id": "9e7c19de"
    },
    {
      "cell_type": "code",
      "execution_count": 39,
      "metadata": {},
      "outputs": [],
      "source": [
        "sum1toNv4(-53)"
      ],
      "id": "e55175a2"
    },
    {
      "cell_type": "markdown",
      "metadata": {},
      "source": [
        "What’s happened here? By starting at the nonsensical value `-53`, we’ve\n",
        "ensured that the recursion can never stop, as no matter how many times\n",
        "we subtract `1`, we’ll never get to `1`. Julia has inbuilt protection\n",
        "against this: if your function recurses too many times, it stops\n",
        "calculating and gives you an error message. Of course, we’ve missed the\n",
        "`isvalidN` function! Let’s add that into our next version:"
      ],
      "id": "e4d33039-8c87-4191-8782-e26159c9c4c8"
    },
    {
      "cell_type": "code",
      "execution_count": 40,
      "metadata": {},
      "outputs": [
        {
          "output_type": "display_data",
          "metadata": {},
          "data": {
            "text/plain": [
              "sum1toNv5 (generic function with 1 method)"
            ]
          }
        }
      ],
      "source": [
        "function sum1toNv5(N)\n",
        "    if !isvalidN(N)\n",
        "        error(\"must be an integer and at least 1\")\n",
        "    # Missing out \"else\" is fine, Julia will just continue running past \"end\"\n",
        "    end\n",
        "\n",
        "    # No need to write the recursion again, this will work as we've checked the input\n",
        "    return sum1toNv4(N)\n",
        "\n",
        "end"
      ],
      "id": "db8f6989"
    },
    {
      "cell_type": "code",
      "execution_count": 41,
      "metadata": {},
      "outputs": [
        {
          "output_type": "display_data",
          "metadata": {},
          "data": {
            "text/plain": [
              "500500"
            ]
          }
        }
      ],
      "source": [
        "sum1toNv5(1000)"
      ],
      "id": "f6e329d4"
    },
    {
      "cell_type": "code",
      "execution_count": 42,
      "metadata": {},
      "outputs": [],
      "source": [
        "sum1toNv5(-53)"
      ],
      "id": "65f3527e"
    },
    {
      "cell_type": "markdown",
      "metadata": {},
      "source": [
        "However, we can still cause the same error as before by choosing a large\n",
        "enough value for `N`, in which case too much recursion will have\n",
        "happened before we get to `1`:"
      ],
      "id": "e02040e9-fee9-478d-bd1f-5f99ce6de124"
    },
    {
      "cell_type": "code",
      "execution_count": 43,
      "metadata": {},
      "outputs": [],
      "source": [
        "sum1toNv5(1000000)"
      ],
      "id": "595c46b5"
    },
    {
      "cell_type": "markdown",
      "metadata": {},
      "source": [
        "There’s another problem in recursion, which is efficiency. To calculate\n",
        "the sum from $1$ to $N$, our recursive function `sum1toNv4` has to do\n",
        "$N-1$ different sums, adding each number onto the preceding sum.\n",
        "Meanwhile, `sum1toNv2` has to do an addition, a multiplication, a\n",
        "division, and a type conversion, which is always four things however\n",
        "large $N$ is (although they do get slower the larger $N$ is, but not by\n",
        "the same amount as the recursive function).\n",
        "\n",
        "This means that for larger inputs, recursion can be quite slow. Julia\n",
        "has inbuilt timing functionality, for example by preceding our line of\n",
        "code with `@time`, we get an output to the console stating how long that\n",
        "line took."
      ],
      "id": "24537415-6820-464a-bf83-a25de128295a"
    },
    {
      "cell_type": "code",
      "execution_count": 44,
      "metadata": {},
      "outputs": [
        {
          "output_type": "stream",
          "name": "stdout",
          "text": [
            "  0.000005 seconds"
          ]
        },
        {
          "output_type": "display_data",
          "metadata": {},
          "data": {
            "text/plain": [
              "1250025000"
            ]
          }
        }
      ],
      "source": [
        "@time sum1toNv2(50000)"
      ],
      "id": "62fb9095"
    },
    {
      "cell_type": "code",
      "execution_count": 45,
      "metadata": {},
      "outputs": [
        {
          "output_type": "stream",
          "name": "stdout",
          "text": [
            "  0.002683 seconds"
          ]
        },
        {
          "output_type": "display_data",
          "metadata": {},
          "data": {
            "text/plain": [
              "1250025000"
            ]
          }
        }
      ],
      "source": [
        "@time sum1toNv4(50000)"
      ],
      "id": "b95c85ab"
    },
    {
      "cell_type": "markdown",
      "metadata": {},
      "source": [
        "As we can see, the recursive method is far slower, so it’s probably not\n",
        "the right solution to this problem. That isn’t to say it wouldn’t be\n",
        "useful in other situations, particularly if there is no neat formula as\n",
        "there is in this instance.\n",
        "\n",
        "As a side note, we’ve just seen a new type of feature of Julia, the\n",
        "*macro* `@time`. Macros, which look like `@<macro-name>`, are like\n",
        "functions in that they take an input and give an output, but their\n",
        "inputs are not values in parentheses, but the line of Julia code\n",
        "following them. They can then do something dynamically with the code,\n",
        "that may or may not involve running it. There are many inbuilt macros,\n",
        "some of which we’ll meet later, and much like functions, we can write\n",
        "our own (although we won’t have a need for that in this example).\n",
        "\n",
        "### Into the source code\n",
        "\n",
        "Picture the scene. You’re stuck, on the same problem you’ve been stuck\n",
        "on for what feels like hours. Maybe days even, when did you last prise\n",
        "your eyes away from the computer screen and look outside? Searching\n",
        "online has only confused you further, and you feel like your knowledge\n",
        "of Julia just isn’t getting you far enough towards a solution.\n",
        "Exhausted, you can only summon the willpower to type four more\n",
        "characters, and press enter:"
      ],
      "id": "206fd381-ed3b-4c7b-9691-59929aacc964"
    },
    {
      "cell_type": "code",
      "execution_count": 46,
      "metadata": {},
      "outputs": [],
      "source": [
        "help"
      ],
      "id": "a0c4bbf3"
    },
    {
      "cell_type": "markdown",
      "metadata": {},
      "source": [
        "Ok, maybe that’s a little dramatic. But it’s nice to see that Julia\n",
        "provides some further directions of where to go for help.\n",
        "\n",
        "The quickest and most useful thing you will do is look for help for a\n",
        "function, to see what it does. This is done in the REPL by typing `?`\n",
        "followed by the name of the function, as the message above says, or\n",
        "using the macro `@doc` as demonstrated below. Many functions with\n",
        "multiple definitions for different input types may display a large block\n",
        "of help text for the many different ways that the function could be\n",
        "used, but by specifying an argument, this can be reduced to just the one\n",
        "you want."
      ],
      "id": "c91f5a90-5e46-45ff-b659-3ec899059428"
    },
    {
      "cell_type": "code",
      "execution_count": 47,
      "metadata": {},
      "outputs": [],
      "source": [
        "# @doc sqrt(100)"
      ],
      "id": "e261ea2b"
    },
    {
      "cell_type": "markdown",
      "metadata": {},
      "source": [
        "Also useful is the online documentation and manual for Julia, provided\n",
        "at <https://docs.julialang.org/>. By navigating using the menus on the\n",
        "left, or the search at the top left, you can find a glut of information\n",
        "on all aspects of Julia programming, from the most basic to much more\n",
        "specialised and advanced. Similar documentation is provided by many of\n",
        "the most common packages for Julia, such as *Plots.jl* at\n",
        "<https://docs.juliaplots.org/>.\n",
        "\n",
        "It’s always worth checking before you define a variable or a function\n",
        "whether that name is already in use by something else, with the `?`\n",
        "functionality of the REPL or `@doc` macro usually the easiest way to see\n",
        "this. For example, the names `sum1toNv1` etc. were chosen above because\n",
        "`sum` is already taken. What does `sum` do? Let’s see:"
      ],
      "id": "bac6cfd7-cfc9-446e-8749-0544ba61de3b"
    },
    {
      "cell_type": "code",
      "execution_count": 48,
      "metadata": {},
      "outputs": [],
      "source": [
        "# @doc sum"
      ],
      "id": "863159a2"
    },
    {
      "cell_type": "markdown",
      "metadata": {},
      "source": [
        "That’s quite a lot of text. Indeed, we can see all of the *methods*,\n",
        "that is possible versions of the function depending on the input types,\n",
        "using the function `methods`:"
      ],
      "id": "b3d427af-8535-4fc2-aaf2-64bd7140ee28"
    },
    {
      "cell_type": "code",
      "execution_count": 49,
      "metadata": {},
      "outputs": [
        {
          "output_type": "display_data",
          "metadata": {},
          "data": {
            "text/html": [
              "# 15 methods for generic function <b>sum</b> from \u001b[90mBase\u001b[39m:<ul><li> sum(wv::<b>StatsBase.UnitWeights{T}</b>)<i> where T</i> in StatsBase at <a href=\"file://C:/Users/James/.julia/packages/StatsBase/iMkPf/src/weights.jl\" target=\"_blank\">C:\\Users\\James\\.julia\\packages\\StatsBase\\iMkPf\\src\\weights.jl:310</a></li> <li> sum(ct::<b>DataStructures.Accumulator</b>) in DataStructures at <a href=\"file://C:/Users/James/.julia/packages/DataStructures/59MD0/src/accumulator.jl\" target=\"_blank\">C:\\Users\\James\\.julia\\packages\\DataStructures\\59MD0\\src\\accumulator.jl:62</a></li> <li> sum(r::<b>StepRangeLen{<:Any, <:Base.TwicePrecision, <:Base.TwicePrecision}</b>) in Base at <a href=\"https://github.com/JuliaLang/julia/tree/8e630552924eac54c809aa7bc30871c7df1582d3/base/twiceprecision.jl#L607\" target=\"_blank\">twiceprecision.jl:607</a></li> <li> sum(r::<b>StepRangeLen</b>) in Base at <a href=\"https://github.com/JuliaLang/julia/tree/8e630552924eac54c809aa7bc30871c7df1582d3/base/twiceprecision.jl#L592\" target=\"_blank\">twiceprecision.jl:592</a></li> <li> sum(r::<b>AbstractRange{<:Real}</b>) in Base at <a href=\"https://github.com/JuliaLang/julia/tree/8e630552924eac54c809aa7bc30871c7df1582d3/base/range.jl#L1392\" target=\"_blank\">range.jl:1392</a></li> <li> sum(wv::<b>StatsBase.AbstractWeights</b>) in StatsBase at <a href=\"file://C:/Users/James/.julia/packages/StatsBase/iMkPf/src/weights.jl\" target=\"_blank\">C:\\Users\\James\\.julia\\packages\\StatsBase\\iMkPf\\src\\weights.jl:26</a></li> <li> sum(arr::<b>Union{Tuple{BigInt, Vararg{BigInt}}, AbstractArray{BigInt}}</b>) in Base.GMP at <a href=\"https://github.com/JuliaLang/julia/tree/8e630552924eac54c809aa7bc30871c7df1582d3/base/gmp.jl#L667\" target=\"_blank\">gmp.jl:667</a></li> <li> sum(a::<b>AbstractArray{Bool}</b>; <i>kw...</i>) in Base at <a href=\"https://github.com/JuliaLang/julia/tree/8e630552924eac54c809aa7bc30871c7df1582d3/base/reduce.jl#L560\" target=\"_blank\">reduce.jl:560</a></li> <li> sum(arr::<b>AbstractArray{BigFloat}</b>) in Base.MPFR at <a href=\"https://github.com/JuliaLang/julia/tree/8e630552924eac54c809aa7bc30871c7df1582d3/base/mpfr.jl#L748\" target=\"_blank\">mpfr.jl:748</a></li> <li> sum(a::<b>AbstractArray</b>; <i>dims, kw...</i>) in Base at <a href=\"https://github.com/JuliaLang/julia/tree/8e630552924eac54c809aa7bc30871c7df1582d3/base/reducedim.jl#L994\" target=\"_blank\">reducedim.jl:994</a></li> <li> sum(A::<b>AbstractArray</b>, w::<b>StatsBase.AbstractWeights{var\"#s63\", T} where {var\"#s63\"<:Real, T<:Real}</b>; <i>dims</i>) in StatsBase at <a href=\"file://C:/Users/James/.julia/packages/StatsBase/iMkPf/src/weights.jl\" target=\"_blank\">C:\\Users\\James\\.julia\\packages\\StatsBase\\iMkPf\\src\\weights.jl:631</a></li> <li> sum(A::<b>AbstractArray</b>, w::<b>StatsBase.AbstractWeights</b>, dims::<b>Int64</b>) in StatsBase at <a href=\"file://C:\\Users\\James\\AppData\\Local\\Programs\\Julia-1.9.0\\share\\julia\\base\\deprecated.jl\" target=\"_blank\">deprecated.jl:103</a></li> <li> sum(a; <i>kw...</i>) in Base at <a href=\"https://github.com/JuliaLang/julia/tree/8e630552924eac54c809aa7bc30871c7df1582d3/base/reduce.jl#L559\" target=\"_blank\">reduce.jl:559</a></li> <li> sum(f, a::<b>AbstractArray</b>; <i>dims, kw...</i>) in Base at <a href=\"https://github.com/JuliaLang/julia/tree/8e630552924eac54c809aa7bc30871c7df1582d3/base/reducedim.jl#L995\" target=\"_blank\">reducedim.jl:995</a></li> <li> sum(f, a; <i>kw...</i>) in Base at <a href=\"https://github.com/JuliaLang/julia/tree/8e630552924eac54c809aa7bc30871c7df1582d3/base/reduce.jl#L530\" target=\"_blank\">reduce.jl:530</a></li> </ul>"
            ]
          }
        }
      ],
      "source": [
        "methods(sum)"
      ],
      "id": "00527cff"
    },
    {
      "cell_type": "markdown",
      "metadata": {},
      "source": [
        "If we look at the documentation carefully, we spot the line:\n",
        "\n",
        "``` julia-repl\n",
        "julia> sum(1:20)\n",
        "210\n",
        "```\n",
        "\n",
        "That looks like what we want to do! Indeed:"
      ],
      "id": "1c84168c-2e63-4bb8-a70c-bf130a04bf16"
    },
    {
      "cell_type": "code",
      "execution_count": 50,
      "metadata": {},
      "outputs": [
        {
          "output_type": "display_data",
          "metadata": {},
          "data": {
            "text/plain": [
              "210"
            ]
          }
        }
      ],
      "source": [
        "sum1toNv2(20)"
      ],
      "id": "520e6ac1"
    },
    {
      "cell_type": "code",
      "execution_count": 51,
      "metadata": {},
      "outputs": [
        {
          "output_type": "display_data",
          "metadata": {},
          "data": {
            "text/plain": [
              "500500"
            ]
          }
        }
      ],
      "source": [
        "sum(1:1000)"
      ],
      "id": "effd7951"
    },
    {
      "cell_type": "markdown",
      "metadata": {},
      "source": [
        "Evidently, this is the quickest way to solve the problem we had. But how\n",
        "does this function do it? One of the great aspects of Julia is that even\n",
        "the inbuilt functionality is publically available, and most of it (apart\n",
        "from the absolute lowest level parts) is written in Julia. So we can go\n",
        "and find where this function is defined, and see what calculations it’s\n",
        "doing.\n",
        "\n",
        "First, to find the method that has been used for this particular input,\n",
        "we can either look through the output of `methods` to identify it, or\n",
        "easier, use the macro `@which`:"
      ],
      "id": "f7b93a02-f1a3-4c71-974d-56cb6edfac60"
    },
    {
      "cell_type": "code",
      "execution_count": 52,
      "metadata": {},
      "outputs": [
        {
          "output_type": "display_data",
          "metadata": {},
          "data": {
            "text/html": [
              "sum(r::<b>AbstractRange{<:Real}</b>) in Base at <a href=\"https://github.com/JuliaLang/julia/tree/8e630552924eac54c809aa7bc30871c7df1582d3/base/range.jl#L1392\" target=\"_blank\">range.jl:1392</a>"
            ]
          }
        }
      ],
      "source": [
        "@which sum(1:1000)"
      ],
      "id": "546b4852"
    },
    {
      "cell_type": "markdown",
      "metadata": {},
      "source": [
        "Julia’s source code can be found at\n",
        "<https://github.com/JuliaLang/julia/>. We’re told that this definition\n",
        "is in `Base`, so we navigate into the folder *base*, and find\n",
        "*range.jl*. Scrolling down to the requisite line number, we find the\n",
        "function definition:\n",
        "\n",
        "``` julia\n",
        "function sum(r::AbstractRange{<:Real})\n",
        "    l = length(r)\n",
        "    # note that a little care is required to avoid overflow in l*(l-1)/2\n",
        "    return l * first(r) + (iseven(l) ? (step(r) * (l-1)) * (l>>1)\n",
        "                                     : (step(r) * l) * ((l-1)>>1))\n",
        "end\n",
        "```\n",
        "\n",
        "Let’s unpack what this means. Firstly, we note that its input has\n",
        "`::AbstractRange{<:Real}` after it. The second type following the first\n",
        "in curly brackets `{}` is called a *parametric type*, which tells Julia\n",
        "something more about the type than the initial name suggests. The\n",
        "expression as a whole is used for multiple dispatch to tell Julia what\n",
        "types are allowed to be used in this method. But our input `1:1000`\n",
        "seems to have the wrong type:"
      ],
      "id": "d8ca7bc6-5b3d-49a7-bbb9-2d66a607e4f4"
    },
    {
      "cell_type": "code",
      "execution_count": 53,
      "metadata": {},
      "outputs": [
        {
          "output_type": "display_data",
          "metadata": {},
          "data": {
            "text/plain": [
              "UnitRange{Int64}"
            ]
          }
        }
      ],
      "source": [
        "typeof(1:1000)"
      ],
      "id": "bc98c927"
    },
    {
      "cell_type": "markdown",
      "metadata": {},
      "source": [
        "Types aren’t disconnected from each other, however, and they are coded\n",
        "to inherit from other code types, allowing them to behave like one for\n",
        "the purposes of multiple dispatch (among other uses). As it turns out\n",
        "`UnitRange` is a subtype of `AbstractRange`, and the parametric type\n",
        "`Int64` is a subtype of `Real`. Anything that can be *promoted* to,\n",
        "i.e. is a subtype of, `AbstractRange` is acceptable as a type, while\n",
        "`<:Real` means that the parametric type associated must be a subtype of\n",
        "`Real`. Both of these conditions are met, so `1:1000` is a valid input\n",
        "for this method and we can proceed with it.\n",
        "\n",
        "Now let’s look at what the rest of the function does. There’s a couple\n",
        "of bits of syntax we haven’t met before, the `?`, the `:`, and the `>>`\n",
        "(we’ve seen all these symbols used before, but for different purposes).\n",
        "We can find what these do with the help functionality that we’ve already\n",
        "seen.\n",
        "\n",
        "The `?` and `:` go together as part of the *ternary operator*, which\n",
        "allows for a shorter way to write `if`-`else` statements in specific\n",
        "cases. Specifically, it equates to the following code:\n",
        "\n",
        "``` julia\n",
        "if <condition>\n",
        "    x = <value-1>\n",
        "else                   ←--→       x = <condition> ? <value-1> : <value-2>\n",
        "    x = <value-2>\n",
        "end\n",
        "```"
      ],
      "id": "73df4af2-2f5a-4464-806d-c674835aa097"
    },
    {
      "cell_type": "code",
      "execution_count": 54,
      "metadata": {},
      "outputs": [
        {
          "output_type": "display_data",
          "metadata": {},
          "data": {
            "text/plain": [
              "\"even\""
            ]
          }
        }
      ],
      "source": [
        "parity12 = iseven(12) ? \"even\" : \"odd\""
      ],
      "id": "e58e35a6"
    },
    {
      "cell_type": "code",
      "execution_count": 55,
      "metadata": {},
      "outputs": [
        {
          "output_type": "display_data",
          "metadata": {},
          "data": {
            "text/plain": [
              "\"odd\""
            ]
          }
        }
      ],
      "source": [
        "parity13 = iseven(13) ? \"even\" : \"odd\""
      ],
      "id": "499bcaa5"
    },
    {
      "cell_type": "markdown",
      "metadata": {},
      "source": [
        "The `>>` means a right bit shift by 1. Since all of the numbers are\n",
        "stored in the computer as binary numbers, this shifts the digits of a\n",
        "number to the right. We can imagine in our base $10$ system that\n",
        "shifting all the digits right one place would have the effect of\n",
        "dividing by $10$, so the bit shift has the effect of dividing our number\n",
        "by $2$:"
      ],
      "id": "469e6af9-85f0-45ea-bee4-a24483e2409e"
    },
    {
      "cell_type": "code",
      "execution_count": 56,
      "metadata": {},
      "outputs": [
        {
          "output_type": "display_data",
          "metadata": {},
          "data": {
            "text/plain": [
              "7"
            ]
          }
        }
      ],
      "source": [
        "14 >> 1"
      ],
      "id": "ecf5e7d6"
    },
    {
      "cell_type": "markdown",
      "metadata": {},
      "source": [
        "Why does it say that *“care is required”*? Well, `>>1` isn’t exactly\n",
        "like dividing by $2$, because for odd numbers, it will lose the\n",
        "remainder:"
      ],
      "id": "5d1882cc-5e46-413a-81d0-67142619dd35"
    },
    {
      "cell_type": "code",
      "execution_count": 57,
      "metadata": {},
      "outputs": [
        {
          "output_type": "display_data",
          "metadata": {},
          "data": {
            "text/plain": [
              "3"
            ]
          }
        }
      ],
      "source": [
        "7 >> 1"
      ],
      "id": "7064a09c"
    },
    {
      "cell_type": "markdown",
      "metadata": {},
      "source": [
        "Hence, if `l` is even, it divides that by $2$, and if not, then `l` is\n",
        "odd, but `l-1` is even, so it divides that by $2$ instead. Clever! And\n",
        "avoids the issue with `Float64`s when dividing earlier.\n",
        "\n",
        "The two functions `first` and `step` tell us the first value in the\n",
        "input range (which for us is always $1$) and the gap between successive\n",
        "values (again, always $1$ for us, as we’re dealing with sequences of\n",
        "successive integers). We can now understand what the function is doing\n",
        "on the input `1:N`: - First, it finds the length of the range, which is\n",
        "`N` - Next, it multiplies this by `1`, giving `N` - If `N` is even, it\n",
        "halves it and multiplies it by `N-1` - If `N` is odd, it halves `N-1`\n",
        "and multiplies it by `N` - Then, it adds the `N` it calculated earlier\n",
        "to whichever product it gets, and outputs the result Algebraically,\n",
        "then, it does:\n",
        "\n",
        "$$\n",
        "N + \\frac{N}{2} \\times (N - 1) \\quad \\text{or} \\quad N + \\frac{N-1}{2} \\times N\n",
        "$$\n",
        "\n",
        "which is equal to `\\frac{N(N+1)}{2}` in either case. So it’s more or\n",
        "less doing our `sum1toNv2` method, just altered to work for a wider\n",
        "range of inputs.\n",
        "\n",
        "In this case, we haven’t really found a new way of solving the problem,\n",
        "but we have learnt a few things about Julia along the way. Journeying\n",
        "into the source code like this can be overwhelming at times, but it can\n",
        "also show you ways of doing things that you may not have come across\n",
        "before, and are likely optimised to work as well as possible for all\n",
        "sorts of applications.\n",
        "\n",
        "One final note: we started by adding up integers by typing the sum out\n",
        "by hand, but stopped because we quickly realised it would be\n",
        "inefficient. However, what if there was a way to effectively make Julia\n",
        "write out the sum, and then evaluate it? In fact, there is:"
      ],
      "id": "e00adf0d-8f26-40d5-b5a2-4cb8a3631c7b"
    },
    {
      "cell_type": "code",
      "execution_count": 58,
      "metadata": {},
      "outputs": [],
      "source": [
        "eval(Meta.parse(*([\"$n +\" for n ∈ 1:999]…, \"1000\")))"
      ],
      "id": "3354a753"
    },
    {
      "cell_type": "markdown",
      "metadata": {},
      "source": [
        "There are several concepts used here that haven’t been covered above.\n",
        "Nonetheless, if you feel like a challenge, the names of the concepts are\n",
        "listed below, with brief explanations if you hover over the blurred\n",
        "text, but you are encouraged to use `?`, `@doc`, and the Julia manual\n",
        "<https://docs.julialang.org/> to learn what each part means.\n",
        "\n",
        "Markdown.MD(Markdown.Admonition(“hint”,“String interpolation”,\\[md”By\n",
        "following a dollar sign `$` with a variable name, the string is created\n",
        "with the value of that variable inserted. [Read\n",
        "more](https://docs.julialang.org/en/v1/manual/strings/#string-interpolation).”\\]))\n",
        "\n",
        "Markdown.MD(Markdown.Admonition(“hint”,“Array comprehension”,\\[md”A\n",
        "vector (or larger array) can be created by giving values for each of a\n",
        "sequence of indices. This is done by giving the value, followed by the\n",
        "familiar start of a `for` loop. [Read\n",
        "more](https://docs.julialang.org/en/v1/manual/arrays/#man-comprehensions).”\\]))\n",
        "\n",
        "Markdown.MD(Markdown.Admonition(“hint”,“∈”,\\[md”An alias for the keyword\n",
        "`in`, typed by `\\in` followed by pressing tab.”\\]))\n",
        "\n",
        "Markdown.MD(Markdown.Admonition(“hint”,“Splatting”,\\[md”Syntax to empty\n",
        "out the contents of a list into individual inputs into a function. [Read\n",
        "more](https://docs.julialang.org/en/v1/manual/functions/#Varargs-Functions).”\\]))\n",
        "\n",
        "Markdown.MD(Markdown.Admonition(“hint”,“String concatenation”,\\[md”The\n",
        "asterisk function `*` with arbitrarily many string inputs outputs one\n",
        "long string given by putting the inputs end to end. [Read\n",
        "more](https://docs.julialang.org/en/v1/manual/arrays/#man-comprehensions).”\\]))\n",
        "\n",
        "Markdown.MD(Markdown.Admonition(“hint”,“Evaluating strings as\n",
        "code”,\\[md”Combining the functions `eval` and `Meta.parse` simulates how\n",
        "Julia reads code and turns it into instructions. [Read\n",
        "more](https://docs.julialang.org/en/v1/manual/metaprogramming/#Program-representation).”\\]))"
      ],
      "id": "2da789e0-40f1-42dc-812e-ec56c99a0da3"
    }
  ],
  "nbformat": 4,
  "nbformat_minor": 5,
  "metadata": {
    "kernelspec": {
      "name": "julia-1.9",
      "display_name": "Julia 1.9.0",
      "language": "julia"
    },
    "language_info": {
      "name": "julia",
      "file_extension": ".jl",
      "mimetype": "application/julia",
      "version": "1.9.0"
    }
  }
}